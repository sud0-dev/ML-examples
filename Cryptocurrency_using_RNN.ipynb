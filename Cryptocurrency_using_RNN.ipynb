{
  "nbformat": 4,
  "nbformat_minor": 0,
  "metadata": {
    "colab": {
      "name": "Cryptocurrency using RNN",
      "provenance": [],
      "authorship_tag": "ABX9TyNrCzMMz9JwzQlwCFWWV9Ks",
      "include_colab_link": true
    },
    "kernelspec": {
      "name": "python3",
      "display_name": "Python 3"
    }
  },
  "cells": [
    {
      "cell_type": "markdown",
      "metadata": {
        "id": "view-in-github",
        "colab_type": "text"
      },
      "source": [
        "<a href=\"https://colab.research.google.com/github/xayron/ML-examples/blob/master/Cryptocurrency_using_RNN.ipynb\" target=\"_parent\"><img src=\"https://colab.research.google.com/assets/colab-badge.svg\" alt=\"Open In Colab\"/></a>"
      ]
    },
    {
      "cell_type": "markdown",
      "metadata": {
        "id": "ssg53d6VZa9f",
        "colab_type": "text"
      },
      "source": [
        "Tutorial from https://pythonprogramming.net/crypto-rnn-model-deep-learning-python-tensorflow-keras/"
      ]
    },
    {
      "cell_type": "code",
      "metadata": {
        "id": "EWLEvvuQZXPU",
        "colab_type": "code",
        "colab": {}
      },
      "source": [
        "import pandas as pd\n",
        "from sklearn import preprocessing\n",
        "from collections import deque\n",
        "import random\n",
        "import numpy as np\n",
        "import time\n",
        "import tensorflow as tf\n",
        "from tensorflow.keras.models import Sequential\n",
        "from tensorflow.keras.layers import Dense, Dropout, LSTM, BatchNormalization\n",
        "from tensorflow.compat.v1.keras.layers import CuDNNLSTM\n",
        "from tensorflow.keras.callbacks import TensorBoard, ModelCheckpoint"
      ],
      "execution_count": 0,
      "outputs": []
    },
    {
      "cell_type": "code",
      "metadata": {
        "id": "30JpjOU_xotq",
        "colab_type": "code",
        "colab": {}
      },
      "source": [
        "SEQ_LEN = 60\n",
        "FUTURE_PERIOD_PREDICT = 3\n",
        "RATIO_TO_PREDICT = \"LTC-USD\"\n",
        "EPOCHS = 10\n",
        "BATCH_SIZE = 64 \n",
        "NAME = f\"{SEQ_LEN}-SEQ-{FUTURE_PERIOD_PREDICT}-PRED-{int(time.time())}\""
      ],
      "execution_count": 0,
      "outputs": []
    },
    {
      "cell_type": "code",
      "metadata": {
        "id": "AB79fUxryA-S",
        "colab_type": "code",
        "colab": {}
      },
      "source": [
        "def classify(current, future):\n",
        "  if float(future) > float(current):\n",
        "    return 1\n",
        "  else:\n",
        "    return 0"
      ],
      "execution_count": 0,
      "outputs": []
    },
    {
      "cell_type": "code",
      "metadata": {
        "id": "k3n1fRNZ6icu",
        "colab_type": "code",
        "colab": {}
      },
      "source": [
        "def preprocess_df(df):\n",
        "  df = df.drop('future', 1)\n",
        "\n",
        "  for col in df.columns:\n",
        "    if col != \"target\":\n",
        "      df[col] = df[col].pct_change()\n",
        "      df.dropna(inplace=True)\n",
        "      df[col] = preprocessing.scale(df[col].values)\n",
        "  \n",
        "  df.dropna(inplace=True)\n",
        "\n",
        "  sequential_data = []\n",
        "  prev_days = deque(maxlen=SEQ_LEN)\n",
        "\n",
        "  for i in df.values:\n",
        "    prev_days.append([n for n in i[:-1]])\n",
        "    if len(prev_days) == SEQ_LEN:\n",
        "      sequential_data.append([np.array(prev_days), i[-1]])\n",
        "\n",
        "  random.shuffle(sequential_data)"
      ],
      "execution_count": 0,
      "outputs": []
    },
    {
      "cell_type": "code",
      "metadata": {
        "id": "tlI8sT9XuXhF",
        "colab_type": "code",
        "outputId": "b40354c8-f9ac-40d0-b8cb-921690a24f04",
        "colab": {
          "base_uri": "https://localhost:8080/",
          "height": 194
        }
      },
      "source": [
        "df = pd.read_csv(\"crypto_data/LTC-USD.csv\", names=[\"time\", \"low\", \"high\", \"open\", \"close\", \"volume\"])\n",
        "df.head()"
      ],
      "execution_count": 55,
      "outputs": [
        {
          "output_type": "execute_result",
          "data": {
            "text/html": [
              "<div>\n",
              "<style scoped>\n",
              "    .dataframe tbody tr th:only-of-type {\n",
              "        vertical-align: middle;\n",
              "    }\n",
              "\n",
              "    .dataframe tbody tr th {\n",
              "        vertical-align: top;\n",
              "    }\n",
              "\n",
              "    .dataframe thead th {\n",
              "        text-align: right;\n",
              "    }\n",
              "</style>\n",
              "<table border=\"1\" class=\"dataframe\">\n",
              "  <thead>\n",
              "    <tr style=\"text-align: right;\">\n",
              "      <th></th>\n",
              "      <th>time</th>\n",
              "      <th>low</th>\n",
              "      <th>high</th>\n",
              "      <th>open</th>\n",
              "      <th>close</th>\n",
              "      <th>volume</th>\n",
              "    </tr>\n",
              "  </thead>\n",
              "  <tbody>\n",
              "    <tr>\n",
              "      <th>0</th>\n",
              "      <td>1528968660</td>\n",
              "      <td>96.580002</td>\n",
              "      <td>96.589996</td>\n",
              "      <td>96.589996</td>\n",
              "      <td>96.580002</td>\n",
              "      <td>9.647200</td>\n",
              "    </tr>\n",
              "    <tr>\n",
              "      <th>1</th>\n",
              "      <td>1528968720</td>\n",
              "      <td>96.449997</td>\n",
              "      <td>96.669998</td>\n",
              "      <td>96.589996</td>\n",
              "      <td>96.660004</td>\n",
              "      <td>314.387024</td>\n",
              "    </tr>\n",
              "    <tr>\n",
              "      <th>2</th>\n",
              "      <td>1528968780</td>\n",
              "      <td>96.470001</td>\n",
              "      <td>96.570000</td>\n",
              "      <td>96.570000</td>\n",
              "      <td>96.570000</td>\n",
              "      <td>77.129799</td>\n",
              "    </tr>\n",
              "    <tr>\n",
              "      <th>3</th>\n",
              "      <td>1528968840</td>\n",
              "      <td>96.449997</td>\n",
              "      <td>96.570000</td>\n",
              "      <td>96.570000</td>\n",
              "      <td>96.500000</td>\n",
              "      <td>7.216067</td>\n",
              "    </tr>\n",
              "    <tr>\n",
              "      <th>4</th>\n",
              "      <td>1528968900</td>\n",
              "      <td>96.279999</td>\n",
              "      <td>96.540001</td>\n",
              "      <td>96.500000</td>\n",
              "      <td>96.389999</td>\n",
              "      <td>524.539978</td>\n",
              "    </tr>\n",
              "  </tbody>\n",
              "</table>\n",
              "</div>"
            ],
            "text/plain": [
              "         time        low       high       open      close      volume\n",
              "0  1528968660  96.580002  96.589996  96.589996  96.580002    9.647200\n",
              "1  1528968720  96.449997  96.669998  96.589996  96.660004  314.387024\n",
              "2  1528968780  96.470001  96.570000  96.570000  96.570000   77.129799\n",
              "3  1528968840  96.449997  96.570000  96.570000  96.500000    7.216067\n",
              "4  1528968900  96.279999  96.540001  96.500000  96.389999  524.539978"
            ]
          },
          "metadata": {
            "tags": []
          },
          "execution_count": 55
        }
      ]
    },
    {
      "cell_type": "code",
      "metadata": {
        "id": "G_jgsNDiu858",
        "colab_type": "code",
        "colab": {}
      },
      "source": [
        "main_df = pd.DataFrame()\n",
        "ratios = [\"BTC-USD\", \"LTC-USD\", \"ETH-USD\", 'BCH-USD']\n",
        "for ratio in ratios:\n",
        "  dataset = f\"crypto_data/{ratio}.csv\"\n",
        "\n",
        "  df = pd.read_csv(dataset, names=[\"time\", \"low\", \"high\", \"open\", \"close\", \"volume\"])\n",
        "  df.rename(columns={\"close\": f\"{ratio}_close\", \"volume\": f\"{ratio}_volume\"}, inplace=True)\n",
        "\n",
        "  df.set_index(\"time\", inplace=True)\n",
        "  df = df[[f\"{ratio}_close\", f\"{ratio}_volume\"]]\n",
        "\n",
        "  if len(main_df) == 0:\n",
        "    main_df = df\n",
        "  else:\n",
        "    main_df = main_df.join(df)"
      ],
      "execution_count": 0,
      "outputs": []
    },
    {
      "cell_type": "code",
      "metadata": {
        "id": "C6EiaAG9xhM3",
        "colab_type": "code",
        "outputId": "57092f08-98a5-4820-d4a0-ff4e91fe7aa5",
        "colab": {
          "base_uri": "https://localhost:8080/",
          "height": 141
        }
      },
      "source": [
        "main_df['future'] = main_df[f\"{RATIO_TO_PREDICT}_close\"].shift(-FUTURE_PERIOD_PREDICT)\n",
        "main_df['target'] = list(map(classify, main_df[f\"{RATIO_TO_PREDICT}_close\"],  main_df[\"future\"]))\n",
        "print(main_df[[f\"{RATIO_TO_PREDICT}_close\", \"future\", \"target\"]].head())"
      ],
      "execution_count": 57,
      "outputs": [
        {
          "output_type": "stream",
          "text": [
            "            LTC-USD_close     future  target\n",
            "time                                        \n",
            "1528968660      96.580002  96.500000       0\n",
            "1528968720      96.660004  96.389999       0\n",
            "1528968780      96.570000  96.519997       0\n",
            "1528968840      96.500000  96.440002       0\n",
            "1528968900      96.389999  96.470001       1\n"
          ],
          "name": "stdout"
        }
      ]
    },
    {
      "cell_type": "code",
      "metadata": {
        "id": "Lbp23hfN4tXm",
        "colab_type": "code",
        "outputId": "09607d2c-8375-4e00-9d23-a0d498538c10",
        "colab": {
          "base_uri": "https://localhost:8080/",
          "height": 35
        }
      },
      "source": [
        "times = sorted(main_df.index.values)\n",
        "last_5pct = times[-int(0.05*len(times))]\n",
        "print(last_5pct)"
      ],
      "execution_count": 58,
      "outputs": [
        {
          "output_type": "stream",
          "text": [
            "1534922100\n"
          ],
          "name": "stdout"
        }
      ]
    },
    {
      "cell_type": "code",
      "metadata": {
        "id": "mLOWsTK65eJn",
        "colab_type": "code",
        "outputId": "f3abbc19-ade2-4151-ec30-5f5da8c26987",
        "colab": {
          "base_uri": "https://localhost:8080/",
          "height": 337
        }
      },
      "source": [
        "validation_main_df = main_df[(main_df.index >= last_5pct)]\n",
        "main_df = main_df[(main_df.index < last_5pct)]\n",
        "\n",
        "print(validation_main_df.head())\n",
        "print(main_df.head())"
      ],
      "execution_count": 59,
      "outputs": [
        {
          "output_type": "stream",
          "text": [
            "            BTC-USD_close  BTC-USD_volume  ...     future  target\n",
            "time                                       ...                   \n",
            "1534922100    6684.500000        0.969366  ...  57.509998       0\n",
            "1534922160    6684.500000        0.611018  ...  57.509998       0\n",
            "1534922220    6682.740234        1.121768  ...  57.509998       0\n",
            "1534922280    6682.660156        0.912729  ...  57.500000       0\n",
            "1534922340    6682.450195        0.334119  ...  57.509998       0\n",
            "\n",
            "[5 rows x 10 columns]\n",
            "            BTC-USD_close  BTC-USD_volume  ...     future  target\n",
            "time                                       ...                   \n",
            "1528968660    6489.549805        0.587100  ...  96.500000       0\n",
            "1528968720    6487.379883        7.706374  ...  96.389999       0\n",
            "1528968780    6479.410156        3.088252  ...  96.519997       0\n",
            "1528968840    6479.410156        1.404100  ...  96.440002       0\n",
            "1528968900    6479.979980        0.753000  ...  96.470001       1\n",
            "\n",
            "[5 rows x 10 columns]\n"
          ],
          "name": "stdout"
        }
      ]
    },
    {
      "cell_type": "code",
      "metadata": {
        "id": "iT81f-6gFI0M",
        "colab_type": "code",
        "colab": {
          "base_uri": "https://localhost:8080/",
          "height": 186
        },
        "outputId": "ecc3b512-f433-4809-e5ed-cb8a0e336946"
      },
      "source": [
        "train_x, train_y = preprocess_df(main_df)\n",
        "validation_x, validation_y = preprocess_df(validation_main_df)"
      ],
      "execution_count": 61,
      "outputs": [
        {
          "output_type": "error",
          "ename": "TypeError",
          "evalue": "ignored",
          "traceback": [
            "\u001b[0;31m---------------------------------------------------------------------------\u001b[0m",
            "\u001b[0;31mTypeError\u001b[0m                                 Traceback (most recent call last)",
            "\u001b[0;32m<ipython-input-61-2da159fd0315>\u001b[0m in \u001b[0;36m<module>\u001b[0;34m()\u001b[0m\n\u001b[0;32m----> 1\u001b[0;31m \u001b[0mtrain_x\u001b[0m\u001b[0;34m,\u001b[0m \u001b[0mtrain_y\u001b[0m \u001b[0;34m=\u001b[0m \u001b[0mpreprocess_df\u001b[0m\u001b[0;34m(\u001b[0m\u001b[0mmain_df\u001b[0m\u001b[0;34m)\u001b[0m\u001b[0;34m\u001b[0m\u001b[0;34m\u001b[0m\u001b[0m\n\u001b[0m\u001b[1;32m      2\u001b[0m \u001b[0mvalidation_x\u001b[0m\u001b[0;34m,\u001b[0m \u001b[0mvalidation_y\u001b[0m \u001b[0;34m=\u001b[0m \u001b[0mpreprocess_df\u001b[0m\u001b[0;34m(\u001b[0m\u001b[0mvalidation_main_df\u001b[0m\u001b[0;34m)\u001b[0m\u001b[0;34m\u001b[0m\u001b[0;34m\u001b[0m\u001b[0m\n",
            "\u001b[0;31mTypeError\u001b[0m: 'NoneType' object is not iterable"
          ]
        }
      ]
    }
  ]
}